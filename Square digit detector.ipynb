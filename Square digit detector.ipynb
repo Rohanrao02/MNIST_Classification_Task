{
 "cells": [
  {
   "cell_type": "markdown",
   "metadata": {},
   "source": [
    "# MNIST DATASET CLASSIFICATION PROBLEM\n",
    "\n",
    "This is model which predicts whether the number is a square number or not by reading the digit"
   ]
  },
  {
   "cell_type": "code",
   "execution_count": 231,
   "metadata": {},
   "outputs": [],
   "source": [
    "import math\n",
    "import numpy as np\n",
    "import pandas as pd\n",
    "import matplotlib.pyplot as plt\n",
    "import tensorflow as tf\n",
    "\n",
    "%matplotlib inline"
   ]
  },
  {
   "cell_type": "markdown",
   "metadata": {},
   "source": [
    "# Loading the data\n"
   ]
  },
  {
   "cell_type": "code",
   "execution_count": 232,
   "metadata": {},
   "outputs": [],
   "source": [
    "Raw_train = pd.read_csv ('C:\\\\Users\\\\rohan\\\\coursera-dl\\\\mnist_train.csv')\n",
    "Raw_test = pd.read_csv ('C:\\\\Users\\\\rohan\\\\coursera-dl\\\\mnist_test.csv')\n",
    "\n",
    "\n",
    "#Separating Images and label\n",
    "Y_train_orig = Raw_train['label']\n",
    "X_train_orig = Raw_train.drop('label', axis = 1)\n",
    "Y_test_orig = Raw_test['label']\n",
    "X_test_orig = Raw_test.drop('label', axis = 1)\n",
    "\n",
    "#Deleting extra variables after separation\n",
    "del Raw_train, Raw_test"
   ]
  },
  {
   "cell_type": "markdown",
   "metadata": {},
   "source": [
    "# Getting data in shape\n"
   ]
  },
  {
   "cell_type": "code",
   "execution_count": 233,
   "metadata": {},
   "outputs": [
    {
     "name": "stdout",
     "output_type": "stream",
     "text": [
      "Number of training examples: 60000\n",
      "Number of test examples: 10000\n",
      "(60000, 784)\n",
      "(10000, 784)\n",
      "(60000,)\n",
      "(10000,)\n"
     ]
    }
   ],
   "source": [
    "print(\"Number of training examples:\",len(X_train_orig))\n",
    "print(\"Number of test examples:\", len(X_test_orig))\n",
    "X_train = X_train_orig.to_numpy()\n",
    "X_test = X_test_orig.to_numpy()\n",
    "\n",
    "Y_train_np = Y_train_orig.to_numpy()\n",
    "Y_test_np  = Y_test_orig.to_numpy()\n",
    "\n",
    "print(X_train.shape)\n",
    "print(X_test.shape)\n",
    "            \n",
    "print(Y_train_np.shape)\n",
    "print(Y_test_np.shape)\n"
   ]
  },
  {
   "cell_type": "markdown",
   "metadata": {},
   "source": [
    "### Function to convert labels of digits \n",
    "\n",
    "The main difference between the normal classification of digits according to their label and the binary classification as squared or non squared lies mainly in data set, output layer and the loss function used.\n",
    "\n",
    "The labels of digits in the training and the test set 0 - 9 has been replaced by 1 or 0 with accordance whether the number is squared/non-squared respectively"
   ]
  },
  {
   "cell_type": "code",
   "execution_count": 235,
   "metadata": {},
   "outputs": [],
   "source": [
    "def sq_predict(Z):\n",
    "    i = 0\n",
    "    square = [0, 1, 4, 9]\n",
    "    \n",
    "    for x in Z:\n",
    "        if x in square:\n",
    "            Z[i] = 1                                             #The number is a square number\n",
    "            i = i + 1\n",
    "        else:\n",
    "            Z[i] = 0                                             #The number is not a square number\n",
    "            i = i + 1\n",
    "    \n",
    "    return Z\n",
    "                "
   ]
  },
  {
   "cell_type": "code",
   "execution_count": 236,
   "metadata": {},
   "outputs": [
    {
     "name": "stdout",
     "output_type": "stream",
     "text": [
      "[0 1 1 ... 0 0 0]\n",
      "[0 0 1 ... 1 0 0]\n"
     ]
    }
   ],
   "source": [
    "Y_train = sq_predict(Y_train_np)\n",
    "Y_test = sq_predict(Y_test_np)\n",
    "print(Y_train)\n",
    "print(Y_test)"
   ]
  },
  {
   "cell_type": "code",
   "execution_count": 245,
   "metadata": {},
   "outputs": [
    {
     "name": "stdout",
     "output_type": "stream",
     "text": [
      "The number is not a square number\n"
     ]
    },
    {
     "data": {
      "image/png": "[encoded data removed]",
      "text/plain": [
       "<Figure size 432x288 with 1 Axes>"
      ]
     },
     "metadata": {
      "needs_background": "light"
     },
     "output_type": "display_data"
    }
   ],
   "source": [
    "index = np.random.randint(0,60000)\n",
    "plt.imshow(X_train[index,:].reshape(28,28), cmap = 'Greys')\n",
    "print(\"The number is\"+ Y_train[index]*\" a square number\"+(1 - Y_train[index])*\" not a square number\")"
   ]
  },
  {
   "cell_type": "code",
   "execution_count": 246,
   "metadata": {},
   "outputs": [],
   "source": [
    "# Normalising\n",
    "\n",
    "X_train =X_train/255\n",
    "X_test = X_test/255"
   ]
  },
  {
   "cell_type": "markdown",
   "metadata": {},
   "source": [
    "The model used here differs the one used for digit classification mainly by the output layer. The output layer used in the digit classification was a softmax layer, while we use a sigmoid activation function here to get either 0 or 1.\n",
    "\n",
    "Similarly, we use Binary Cross entropy for losses here while we used a softmax cross entropy for the losses in the digit classification"
   ]
  },
  {
   "cell_type": "code",
   "execution_count": 247,
   "metadata": {},
   "outputs": [],
   "source": [
    "model = tf.keras.Sequential([tf.keras.layers.Dense(128, activation=tf.nn.relu, input_shape=(784,)),  # input shape required\n",
    "                              tf.keras.layers.Dense(256, activation=tf.nn.relu),\n",
    "                              tf.keras.layers.Dense(512, activation=tf.nn.relu),\n",
    "                              tf.keras.layers.Dense(1, activation=tf.nn.sigmoid)\n",
    "                            ])\n"
   ]
  },
  {
   "cell_type": "code",
   "execution_count": 248,
   "metadata": {},
   "outputs": [],
   "source": [
    "model.compile(optimizer='adam',\n",
    "              loss=tf.keras.losses.binary_crossentropy,\n",
    "              metrics=['accuracy'])\n"
   ]
  },
  {
   "cell_type": "code",
   "execution_count": 252,
   "metadata": {},
   "outputs": [
    {
     "name": "stdout",
     "output_type": "stream",
     "text": [
      "Train on 60000 samples\n",
      "Epoch 1/10\n",
      "60000/60000 [==============================] - 2s 41us/sample - loss: 0.0939 - acc: 0.9683\n",
      "Epoch 2/10\n",
      "60000/60000 [==============================] - 2s 39us/sample - loss: 0.0817 - acc: 0.9728\n",
      "Epoch 3/10\n",
      "60000/60000 [==============================] - 2s 40us/sample - loss: 0.0734 - acc: 0.9756\n",
      "Epoch 4/10\n",
      "60000/60000 [==============================] - 2s 41us/sample - loss: 0.0667 - acc: 0.9777\n",
      "Epoch 5/10\n",
      "60000/60000 [==============================] - 3s 43us/sample - loss: 0.0636 - acc: 0.9790\n",
      "Epoch 6/10\n",
      "60000/60000 [==============================] - 3s 42us/sample - loss: 0.0571 - acc: 0.9809\n",
      "Epoch 7/10\n",
      "60000/60000 [==============================] - 3s 42us/sample - loss: 0.0512 - acc: 0.9827\n",
      "Epoch 8/10\n",
      "60000/60000 [==============================] - 2s 41us/sample - loss: 0.0482 - acc: 0.9842\n",
      "Epoch 9/10\n",
      "60000/60000 [==============================] - 3s 43us/sample - loss: 0.0452 - acc: 0.9851\n",
      "Epoch 10/10\n",
      "60000/60000 [==============================] - 3s 42us/sample - loss: 0.0411 - acc: 0.98651s - loss\n"
     ]
    },
    {
     "data": {
      "text/plain": [
       "<tensorflow.python.keras.callbacks.History at 0x2651bcbae20>"
      ]
     },
     "execution_count": 252,
     "metadata": {},
     "output_type": "execute_result"
    }
   ],
   "source": [
    "model.fit(X_train,Y_train, epochs=10 ,batch_size = 1000)"
   ]
  },
  {
   "cell_type": "code",
   "execution_count": 260,
   "metadata": {},
   "outputs": [
    {
     "name": "stdout",
     "output_type": "stream",
     "text": [
      "\n",
      "Test accuracy: 0.9817\n"
     ]
    }
   ],
   "source": [
    "test_loss, test_acc = model.evaluate(X_test,Y_test)\n",
    "\n",
    "print('\\nTest accuracy:', test_acc)"
   ]
  },
  {
   "cell_type": "code",
   "execution_count": 261,
   "metadata": {},
   "outputs": [
    {
     "name": "stdout",
     "output_type": "stream",
     "text": [
      "The number is not a square number\n"
     ]
    },
    {
     "data": {
      "image/png": "[encoded data removed]",
      "text/plain": [
       "<Figure size 432x288 with 1 Axes>"
      ]
     },
     "metadata": {
      "needs_background": "light"
     },
     "output_type": "display_data"
    }
   ],
   "source": [
    "index = np.random.randint(0,10000)\n",
    "plt.imshow(X_test[index,:].reshape(28,28), cmap = 'Greys')\n",
    "a =  np.squeeze(model.predict(X_test)[index])\n",
    "\n",
    "a = int(np.around(a))\n",
    "print(\"The number is\"+ a*\" a square number\"+(1 - a)*\" not a square number\")"
   ]
  }
 ],
 "metadata": {
  "kernelspec": {
   "display_name": "Python 3",
   "language": "python",
   "name": "python3"
  },
  "language_info": {
   "codemirror_mode": {
    "name": "ipython",
    "version": 3
   },
   "file_extension": ".py",
   "mimetype": "text/x-python",
   "name": "python",
   "nbconvert_exporter": "python",
   "pygments_lexer": "ipython3",
   "version": "3.8.5"
  }
 },
 "nbformat": 4,
 "nbformat_minor": 4
}
