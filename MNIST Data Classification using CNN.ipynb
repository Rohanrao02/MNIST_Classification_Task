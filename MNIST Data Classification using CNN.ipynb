{
 "cells": [
  {
   "cell_type": "markdown",
   "metadata": {},
   "source": [
    "# MNIST Dataset classification using CNN network\n",
    "\n",
    "The same data set will be used and it will be trained using Convolutional Neural Network.And hence, by this task we will compare the model accuracy of a simple CNN with that of a Deep Neural Network"
   ]
  },
  {
   "cell_type": "code",
   "execution_count": 1,
   "metadata": {},
   "outputs": [
    {
     "name": "stdout",
     "output_type": "stream",
     "text": [
      "WARNING:tensorflow:From C:\\Users\\rohan\\anaconda3\\lib\\site-packages\\tensorflow\\python\\compat\\v2_compat.py:96: disable_resource_variables (from tensorflow.python.ops.variable_scope) is deprecated and will be removed in a future version.\n",
      "Instructions for updating:\n",
      "non-resource variables are not supported in the long term\n"
     ]
    }
   ],
   "source": [
    "import math\n",
    "import numpy as np\n",
    "import pandas as pd\n",
    "import tensorflow\n",
    "import tensorflow.compat.v1 as tf\n",
    "import matplotlib.pyplot as plt\n",
    "\n",
    "tf.disable_v2_behavior()\n",
    "\n",
    "%matplotlib inline"
   ]
  },
  {
   "cell_type": "code",
   "execution_count": 2,
   "metadata": {},
   "outputs": [],
   "source": [
    "Raw_train = pd.read_csv ('C:\\\\Users\\\\rohan\\\\coursera-dl\\\\mnist_train.csv')\n",
    "Raw_test = pd.read_csv ('C:\\\\Users\\\\rohan\\\\coursera-dl\\\\mnist_test.csv')\n",
    "\n",
    "\n",
    "#Separating Images and label\n",
    "Y_train_orig = Raw_train['label']\n",
    "X_train_orig = Raw_train.drop('label', axis = 1)\n",
    "Y_test_orig = Raw_test['label']\n",
    "X_test_orig = Raw_test.drop('label', axis = 1)\n",
    "\n",
    "#Deleting extra variables after separation\n",
    "del Raw_train, Raw_test"
   ]
  },
  {
   "cell_type": "code",
   "execution_count": 3,
   "metadata": {},
   "outputs": [
    {
     "name": "stdout",
     "output_type": "stream",
     "text": [
      "Number of training examples: 60000\n",
      "Number of test examples: 10000\n",
      "(60000, 28, 28, 1)\n",
      "(10000, 28, 28, 1)\n"
     ]
    }
   ],
   "source": [
    "print(\"Number of training examples:\",len(X_train_orig))\n",
    "print(\"Number of test examples:\",len(X_test_orig))\n",
    "\n",
    "X_train = X_train_orig.to_numpy().reshape(-1,28,28,1)\n",
    "X_test = X_test_orig.to_numpy().reshape(-1,28,28,1)\n",
    "\n",
    "Y_train = Y_train_orig.to_numpy()\n",
    "Y_test = Y_test_orig.to_numpy()\n",
    "\n",
    "print(X_train.shape)\n",
    "print(X_test.shape)"
   ]
  },
  {
   "cell_type": "code",
   "execution_count": 4,
   "metadata": {},
   "outputs": [],
   "source": [
    "#Normalising\n",
    "X_train = X_train/255\n",
    "X_test = X_test/255"
   ]
  },
  {
   "cell_type": "code",
   "execution_count": 29,
   "metadata": {},
   "outputs": [],
   "source": [
    "model = tf.keras.Sequential([\n",
    "                                tf.keras.layers.Conv2D(8 , 28,strides=(1,1), padding='same',input_shape=(28,28,1) ),\n",
    "                                tf.keras.layers.MaxPooling2D(pool_size = (2, 2)),\n",
    "                                tf.keras.layers.Conv2D(16 ,(5,5),strides = (1,1),padding='valid'),\n",
    "                                tf.keras.layers.MaxPooling2D(pool_size = (2, 2)),\n",
    "                            ])"
   ]
  },
  {
   "cell_type": "code",
   "execution_count": 30,
   "metadata": {},
   "outputs": [
    {
     "name": "stdout",
     "output_type": "stream",
     "text": [
      "Model: \"sequential_12\"\n",
      "_________________________________________________________________\n",
      "Layer (type)                 Output Shape              Param #   \n",
      "=================================================================\n",
      "conv2d_24 (Conv2D)           (None, 28, 28, 8)         6280      \n",
      "_________________________________________________________________\n",
      "max_pooling2d_24 (MaxPooling (None, 14, 14, 8)         0         \n",
      "_________________________________________________________________\n",
      "conv2d_25 (Conv2D)           (None, 10, 10, 16)        3216      \n",
      "_________________________________________________________________\n",
      "max_pooling2d_25 (MaxPooling (None, 5, 5, 16)          0         \n",
      "=================================================================\n",
      "Total params: 9,496\n",
      "Trainable params: 9,496\n",
      "Non-trainable params: 0\n",
      "_________________________________________________________________\n"
     ]
    }
   ],
   "source": [
    "model.summary()"
   ]
  },
  {
   "cell_type": "code",
   "execution_count": 31,
   "metadata": {},
   "outputs": [],
   "source": [
    "model.add(tf.keras.layers.Flatten())\n",
    "model.add(tf.keras.layers.Dense(120, activation = 'relu'))\n",
    "model.add(tf.keras.layers.Dense(84, activation = 'relu' ))\n",
    "model.add(tf.keras.layers.Dense(10, activation = 'softmax'))"
   ]
  },
  {
   "cell_type": "code",
   "execution_count": 32,
   "metadata": {},
   "outputs": [
    {
     "name": "stdout",
     "output_type": "stream",
     "text": [
      "Model: \"sequential_12\"\n",
      "_________________________________________________________________\n",
      "Layer (type)                 Output Shape              Param #   \n",
      "=================================================================\n",
      "conv2d_24 (Conv2D)           (None, 28, 28, 8)         6280      \n",
      "_________________________________________________________________\n",
      "max_pooling2d_24 (MaxPooling (None, 14, 14, 8)         0         \n",
      "_________________________________________________________________\n",
      "conv2d_25 (Conv2D)           (None, 10, 10, 16)        3216      \n",
      "_________________________________________________________________\n",
      "max_pooling2d_25 (MaxPooling (None, 5, 5, 16)          0         \n",
      "_________________________________________________________________\n",
      "flatten_1 (Flatten)          (None, 400)               0         \n",
      "_________________________________________________________________\n",
      "dense_3 (Dense)              (None, 120)               48120     \n",
      "_________________________________________________________________\n",
      "dense_4 (Dense)              (None, 84)                10164     \n",
      "_________________________________________________________________\n",
      "dense_5 (Dense)              (None, 10)                850       \n",
      "=================================================================\n",
      "Total params: 68,630\n",
      "Trainable params: 68,630\n",
      "Non-trainable params: 0\n",
      "_________________________________________________________________\n"
     ]
    }
   ],
   "source": [
    "model.summary()"
   ]
  },
  {
   "cell_type": "code",
   "execution_count": 35,
   "metadata": {},
   "outputs": [
    {
     "name": "stdout",
     "output_type": "stream",
     "text": [
      "Train on 60000 samples\n",
      "Epoch 1/10\n",
      "60000/60000 [==============================] - 168s 3ms/sample - loss: 0.1332 - acc: 0.9600\n",
      "Epoch 2/10\n",
      "60000/60000 [==============================] - 170s 3ms/sample - loss: 0.0889 - acc: 0.9729\n",
      "Epoch 3/10\n",
      "60000/60000 [==============================] - 172s 3ms/sample - loss: 0.0678 - acc: 0.9791\n",
      "Epoch 4/10\n",
      "60000/60000 [==============================] - 173s 3ms/sample - loss: 0.0538 - acc: 0.9835\n",
      "Epoch 5/10\n",
      "60000/60000 [==============================] - 194s 3ms/sample - loss: 0.0461 - acc: 0.9859\n",
      "Epoch 6/10\n",
      "60000/60000 [==============================] - 202s 3ms/sample - loss: 0.0385 - acc: 0.9881\n",
      "Epoch 7/10\n",
      "60000/60000 [==============================] - 195s 3ms/sample - loss: 0.0305 - acc: 0.9902\n",
      "Epoch 8/10\n",
      "60000/60000 [==============================] - 176s 3ms/sample - loss: 0.0267 - acc: 0.9915\n",
      "Epoch 9/10\n",
      "60000/60000 [==============================] - 175s 3ms/sample - loss: 0.0227 - acc: 0.9929\n",
      "Epoch 10/10\n",
      "60000/60000 [==============================] - 186s 3ms/sample - loss: 0.0196 - acc: 0.9941\n"
     ]
    }
   ],
   "source": [
    "model.compile(optimizer='adam',\n",
    "              loss=tf.keras.losses.SparseCategoricalCrossentropy(from_logits=True),\n",
    "              metrics=['accuracy'])\n",
    "\n",
    "history = model.fit(X_train, Y_train, epochs=10, batch_size = 1000)"
   ]
  },
  {
   "cell_type": "code",
   "execution_count": 36,
   "metadata": {},
   "outputs": [
    {
     "name": "stderr",
     "output_type": "stream",
     "text": [
      "C:\\Users\\rohan\\anaconda3\\lib\\site-packages\\tensorflow\\python\\keras\\engine\\training.py:2325: UserWarning: `Model.state_updates` will be removed in a future version. This property should not be used in TensorFlow 2.0, as `updates` are applied automatically.\n",
      "  warnings.warn('`Model.state_updates` will be removed in a future version. '\n"
     ]
    },
    {
     "name": "stdout",
     "output_type": "stream",
     "text": [
      "\n",
      "Test accuracy: 0.9827\n"
     ]
    }
   ],
   "source": [
    "test_loss, test_acc = model.evaluate(X_test,Y_test)\n",
    "\n",
    "print('\\nTest accuracy:', test_acc)"
   ]
  },
  {
   "cell_type": "code",
   "execution_count": 50,
   "metadata": {},
   "outputs": [
    {
     "name": "stdout",
     "output_type": "stream",
     "text": [
      "The number is 5\n"
     ]
    },
    {
     "data": {
      "image/png": "[encoded data removed]",
      "text/plain": [
       "<Figure size 432x288 with 1 Axes>"
      ]
     },
     "metadata": {
      "needs_background": "light"
     },
     "output_type": "display_data"
    }
   ],
   "source": [
    "index = np.random.randint(0,10000)\n",
    "plt.imshow(X_test[index,:], cmap = 'Greys')\n",
    "a =  np.squeeze(model.predict(X_test)[index,:])\n",
    "\n",
    "a = (np.argmax(a))\n",
    "print(\"The number is\",a)"
   ]
  },
  {
   "cell_type": "code",
   "execution_count": null,
   "metadata": {},
   "outputs": [],
   "source": []
  }
 ],
 "metadata": {
  "kernelspec": {
   "display_name": "Python 3",
   "language": "python",
   "name": "python3"
  },
  "language_info": {
   "codemirror_mode": {
    "name": "ipython",
    "version": 3
   },
   "file_extension": ".py",
   "mimetype": "text/x-python",
   "name": "python",
   "nbconvert_exporter": "python",
   "pygments_lexer": "ipython3",
   "version": "3.8.5"
  }
 },
 "nbformat": 4,
 "nbformat_minor": 4
}
